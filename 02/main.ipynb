{
 "cells": [
  {
   "cell_type": "code",
   "execution_count": 2,
   "metadata": {},
   "outputs": [],
   "source": [
    "import csv\n",
    "import pandas as pd"
   ]
  },
  {
   "cell_type": "code",
   "execution_count": 6,
   "metadata": {},
   "outputs": [],
   "source": [
    "df = pd.read_csv('data.csv',header=None)"
   ]
  },
  {
   "cell_type": "code",
   "execution_count": 24,
   "metadata": {},
   "outputs": [],
   "source": [
    "from itertools import pairwise\n",
    "\n",
    "\n",
    "def is_safe(row):\n",
    "    # print(row)\n",
    "    items = row[0].split(' ')\n",
    "    row_list = list(map(int, items))\n",
    "    l = len(items)\n",
    "    safe = False\n",
    "    count = 0\n",
    "    #condition 1\n",
    "    if all(a < b for a, b in pairwise(row_list)) or all(a > b for a, b in pairwise(row_list)):\n",
    "        safe= True\n",
    "    else:\n",
    "        safe= False\n",
    "    if safe == False:\n",
    "        return 0\n",
    "    #condition 2\n",
    "\n",
    "    if all(abs(a-b) >= 1 and abs(a-b) <= 3 for a,b in pairwise(row_list)):\n",
    "        safe=True\n",
    "    else:\n",
    "        safe=False\n",
    "    \n",
    "    if safe == True:\n",
    "        return 1\n",
    "    else:\n",
    "        return 0\n"
   ]
  },
  {
   "cell_type": "code",
   "execution_count": 25,
   "metadata": {},
   "outputs": [],
   "source": [
    "safe = 0"
   ]
  },
  {
   "cell_type": "code",
   "execution_count": 26,
   "metadata": {},
   "outputs": [],
   "source": [
    "for index, row in df.iterrows():\n",
    "    safe += is_safe(row)\n"
   ]
  },
  {
   "cell_type": "markdown",
   "metadata": {},
   "source": [
    "The levels are either all increasing or all decreasing.\n",
    "\n",
    "\n",
    "\n",
    "Any two adjacent levels differ by at least one and at most three."
   ]
  },
  {
   "cell_type": "code",
   "execution_count": 27,
   "metadata": {},
   "outputs": [
    {
     "data": {
      "text/plain": [
       "510"
      ]
     },
     "execution_count": 27,
     "metadata": {},
     "output_type": "execute_result"
    }
   ],
   "source": [
    "safe"
   ]
  },
  {
   "cell_type": "code",
   "execution_count": null,
   "metadata": {},
   "outputs": [],
   "source": [
    "def is_safe_list(row):\n",
    "    # print(row)\n",
    "    items = row[0].split(' ')\n",
    "    row_list = list(map(int, items))\n",
    "    safe = False\n",
    "    #condition 1\n",
    "    if all(a < b for a, b in pairwise(row_list)) or all(a > b for a, b in pairwise(row_list)):\n",
    "        safe= True\n",
    "    else:\n",
    "        safe= False\n",
    "    if safe == False:\n",
    "        return 0\n",
    "    #condition 2\n",
    "\n",
    "    if all(abs(a-b) >= 1 and abs(a-b) <= 3 for a,b in pairwise(row_list)):\n",
    "        safe=True\n",
    "    else:\n",
    "        safe=False\n",
    "    \n",
    "    if safe == True:\n",
    "        return 1\n",
    "    else:\n",
    "        return 0"
   ]
  },
  {
   "cell_type": "code",
   "execution_count": null,
   "metadata": {},
   "outputs": [],
   "source": [
    "def is_safe_row(row):\n",
    "    pass"
   ]
  }
 ],
 "metadata": {
  "kernelspec": {
   "display_name": "venv",
   "language": "python",
   "name": "python3"
  },
  "language_info": {
   "codemirror_mode": {
    "name": "ipython",
    "version": 3
   },
   "file_extension": ".py",
   "mimetype": "text/x-python",
   "name": "python",
   "nbconvert_exporter": "python",
   "pygments_lexer": "ipython3",
   "version": "3.12.5"
  }
 },
 "nbformat": 4,
 "nbformat_minor": 2
}
