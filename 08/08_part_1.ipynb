{
 "cells": [
  {
   "cell_type": "code",
   "execution_count": 6,
   "metadata": {},
   "outputs": [],
   "source": [
    "grid = []\n",
    "with open('sample_data.txt') as f:\n",
    "    data = f.readlines()\n",
    "    for line in data:\n",
    "        line = line.split('\\n')[0]\n",
    "        # lines = line.split()\n",
    "        grid.append(list(line))"
   ]
  },
  {
   "cell_type": "code",
   "execution_count": 7,
   "metadata": {},
   "outputs": [
    {
     "data": {
      "text/plain": [
       "[['.', '.', '.', '.', '.', '.', '.', '.', '.', '.', '.', '.'],\n",
       " ['.', '.', '.', '.', '.', '.', '.', '.', '0', '.', '.', '.'],\n",
       " ['.', '.', '.', '.', '.', '0', '.', '.', '.', '.', '.', '.'],\n",
       " ['.', '.', '.', '.', '.', '.', '.', '0', '.', '.', '.', '.'],\n",
       " ['.', '.', '.', '.', '0', '.', '.', '.', '.', '.', '.', '.'],\n",
       " ['.', '.', '.', '.', '.', '.', 'A', '.', '.', '.', '.', '.'],\n",
       " ['.', '.', '.', '.', '.', '.', '.', '.', '.', '.', '.', '.'],\n",
       " ['.', '.', '.', '.', '.', '.', '.', '.', '.', '.', '.', '.'],\n",
       " ['.', '.', '.', '.', '.', '.', '.', '.', 'A', '.', '.', '.'],\n",
       " ['.', '.', '.', '.', '.', '.', '.', '.', '.', 'A', '.', '.'],\n",
       " ['.', '.', '.', '.', '.', '.', '.', '.', '.', '.', '.', '.'],\n",
       " ['.', '.', '.', '.', '.', '.', '.', '.', '.', '.', '.', '.']]"
      ]
     },
     "execution_count": 7,
     "metadata": {},
     "output_type": "execute_result"
    }
   ],
   "source": [
    "grid"
   ]
  },
  {
   "cell_type": "code",
   "execution_count": null,
   "metadata": {},
   "outputs": [],
   "source": []
  },
  {
   "cell_type": "markdown",
   "metadata": {},
   "source": [
    "Sample:"
   ]
  },
  {
   "cell_type": "markdown",
   "metadata": {},
   "source": [
    "there are 14 total unique locations that contain an antinode within the bounds of the map."
   ]
  },
  {
   "cell_type": "markdown",
   "metadata": {},
   "source": [
    "Part1: How many unique locations within the bounds of the map contain an antinode?\n"
   ]
  },
  {
   "cell_type": "code",
   "execution_count": 3,
   "metadata": {},
   "outputs": [],
   "source": [
    "#try to make a set with the transmitter as the key and the locations as a list of lists"
   ]
  },
  {
   "cell_type": "code",
   "execution_count": 8,
   "metadata": {},
   "outputs": [],
   "source": [
    "from collections import defaultdict"
   ]
  },
  {
   "cell_type": "code",
   "execution_count": 48,
   "metadata": {},
   "outputs": [],
   "source": [
    "grid_list = defaultdict(list)"
   ]
  },
  {
   "cell_type": "code",
   "execution_count": 49,
   "metadata": {},
   "outputs": [],
   "source": [
    "for y in range(len(grid)):\n",
    "    for x in range(len(grid[y])):\n",
    "        if grid[y][x] != '.' and grid[y][x] != '#':\n",
    "            # print(grid[y][x])\n",
    "            grid_list[grid[y][x]].append([x,y])"
   ]
  },
  {
   "cell_type": "code",
   "execution_count": 50,
   "metadata": {},
   "outputs": [
    {
     "data": {
      "text/plain": [
       "defaultdict(list,\n",
       "            {'0': [[8, 1], [5, 2], [7, 3], [4, 4]],\n",
       "             'A': [[6, 5], [8, 8], [9, 9]]})"
      ]
     },
     "execution_count": 50,
     "metadata": {},
     "output_type": "execute_result"
    }
   ],
   "source": [
    "grid_list"
   ]
  },
  {
   "cell_type": "code",
   "execution_count": 60,
   "metadata": {},
   "outputs": [],
   "source": [
    "import math\n",
    "def cal_distance(c1, c2):\n",
    "    x1, y1 = c1\n",
    "    x2, y2 = c2\n",
    "\n",
    "    dx = x2 - x1\n",
    "    dy = y2 - y1\n",
    "\n",
    "    # Normalize the direction to unit steps\n",
    "    step_count = max(abs(dx), abs(dy))\n",
    "    dir_x = 0 if dx == 0 else dx // abs(dx)  # Normalize dx\n",
    "    dir_y = 0 if dy == 0 else dy // abs(dy)  # Normalize dy\n",
    "\n",
    "    # The distance is the maximum of |dx| or |dy| for grid traversal\n",
    "    dist = step_count\n",
    "\n",
    "    return (dir_x, dir_y, dist)\n",
    "            "
   ]
  },
  {
   "cell_type": "code",
   "execution_count": 64,
   "metadata": {},
   "outputs": [],
   "source": [
    "def new_location(s, dir, d):\n",
    "    x, y = s\n",
    "    dx, dy = dir\n",
    "\n",
    "    for _ in range(d):\n",
    "        x += dx\n",
    "        y += dy\n",
    "\n",
    "    return int(x), int(y)"
   ]
  },
  {
   "cell_type": "code",
   "execution_count": 65,
   "metadata": {},
   "outputs": [],
   "source": [
    "from itertools import pairwise"
   ]
  },
  {
   "cell_type": "code",
   "execution_count": 67,
   "metadata": {},
   "outputs": [
    {
     "name": "stdout",
     "output_type": "stream",
     "text": [
      "0 [8, 1] [5, 2]\n",
      "-1 1 3\n",
      "New Location: (2, 5)\n",
      "0 [5, 2] [7, 3]\n",
      "1 1 2\n",
      "New Location: (9, 5)\n",
      "0 [7, 3] [4, 4]\n",
      "-1 1 3\n",
      "New Location: (1, 7)\n",
      "A [6, 5] [8, 8]\n",
      "1 1 3\n",
      "New Location: (11, 11)\n",
      "A [8, 8] [9, 9]\n",
      "1 1 1\n",
      "New Location: (10, 10)\n"
     ]
    }
   ],
   "source": [
    "for tower in grid_list:\n",
    "    for a,b in pairwise(grid_list[tower]):\n",
    "        print(tower, a, b)\n",
    "        dir_x, dir_y, dist = cal_distance(a,b)\n",
    "        print(dir_x, dir_y, dist)\n",
    "        new_pos = new_location(b, (dir_x, dir_y), dist)\n",
    "        print(\"New Location:\", new_pos)"
   ]
  },
  {
   "cell_type": "code",
   "execution_count": null,
   "metadata": {},
   "outputs": [],
   "source": []
  }
 ],
 "metadata": {
  "kernelspec": {
   "display_name": "venv",
   "language": "python",
   "name": "python3"
  },
  "language_info": {
   "codemirror_mode": {
    "name": "ipython",
    "version": 3
   },
   "file_extension": ".py",
   "mimetype": "text/x-python",
   "name": "python",
   "nbconvert_exporter": "python",
   "pygments_lexer": "ipython3",
   "version": "3.11.9"
  }
 },
 "nbformat": 4,
 "nbformat_minor": 2
}
