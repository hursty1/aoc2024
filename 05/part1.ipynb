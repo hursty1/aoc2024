{
 "cells": [
  {
   "cell_type": "code",
   "execution_count": 120,
   "metadata": {},
   "outputs": [],
   "source": [
    "rules = []\n",
    "data = []"
   ]
  },
  {
   "cell_type": "code",
   "execution_count": 121,
   "metadata": {},
   "outputs": [],
   "source": [
    "data_=False\n",
    "with open('sample.txt') as f:\n",
    "    d = f.readlines()\n",
    "    for line in d:\n",
    "        line = line.replace('\\n','')\n",
    "        # print(line)\n",
    "        if data_:\n",
    "            data.append(line.split(','))\n",
    "        else:\n",
    "            if line == '':\n",
    "                data_ = True\n",
    "            else:\n",
    "                rules.append(line.split('|'))"
   ]
  },
  {
   "cell_type": "code",
   "execution_count": 122,
   "metadata": {},
   "outputs": [
    {
     "data": {
      "text/plain": [
       "[['47', '53'],\n",
       " ['97', '13'],\n",
       " ['97', '61'],\n",
       " ['97', '47'],\n",
       " ['75', '29'],\n",
       " ['61', '13'],\n",
       " ['75', '53'],\n",
       " ['29', '13'],\n",
       " ['97', '29'],\n",
       " ['53', '29'],\n",
       " ['61', '53'],\n",
       " ['97', '53'],\n",
       " ['61', '29'],\n",
       " ['47', '13'],\n",
       " ['75', '47'],\n",
       " ['97', '75'],\n",
       " ['47', '61'],\n",
       " ['75', '61'],\n",
       " ['47', '29'],\n",
       " ['75', '13'],\n",
       " ['53', '13']]"
      ]
     },
     "execution_count": 122,
     "metadata": {},
     "output_type": "execute_result"
    }
   ],
   "source": [
    "rules"
   ]
  },
  {
   "cell_type": "code",
   "execution_count": 123,
   "metadata": {},
   "outputs": [
    {
     "data": {
      "text/plain": [
       "[['75', '47', '61', '53', '29'],\n",
       " ['97', '61', '53', '29', '13'],\n",
       " ['75', '29', '13'],\n",
       " ['75', '97', '47', '61', '53'],\n",
       " ['61', '13', '29'],\n",
       " ['97', '13', '75', '29', '47']]"
      ]
     },
     "execution_count": 123,
     "metadata": {},
     "output_type": "execute_result"
    }
   ],
   "source": [
    "data"
   ]
  },
  {
   "cell_type": "code",
   "execution_count": 94,
   "metadata": {},
   "outputs": [],
   "source": [
    "def check_rules(line, index):\n",
    "    #get rules\n",
    "    a = [] #after\n",
    "    b = [] #before\n",
    "    for rule in rules: #collect rules\n",
    "        if rule[0] == line[index] and index < len(line): #after rules\n",
    "            c = rule[1]\n",
    "            a.append(rule)\n",
    "        if index > 0 and rule[1] == line[index]: #check before\n",
    "            b.append(rule)\n",
    "    # print(a)\n",
    "    # print(b)\n",
    "    aa = [aa[1] for aa in a] #list of after items\n",
    "    bb = [bb[0] for bb in b] #list of before items\n",
    "    for i in range(len(line)):\n",
    "        # print(f'index is {i}')\n",
    "        # print()\n",
    "        if i == index:\n",
    "            pass ##skipping \n",
    "        elif i < index: #before (b)\n",
    "            # print(f'Before: {line[i]}')\n",
    "            #if its 2 of five we need to \n",
    "            # check each position between 0 and index\n",
    "            for p in range(0, i):#position in before positions\n",
    "                if line[p] not in bb: #if value in before rules\n",
    "                    return False #fail\n",
    "                \n",
    "            \n",
    "            pass\n",
    "        else: #after\n",
    "            for p in range(i, len(line)):\n",
    "                print(f'After: {line[p]}')\n",
    "                print(aa)\n",
    "                if line[p] not in aa:\n",
    "                    # print(f'returning false')\n",
    "                    return False\n",
    "            pass\n",
    "\n",
    "    return True\n",
    "    # for value in len(line):\n"
   ]
  },
  {
   "cell_type": "code",
   "execution_count": 96,
   "metadata": {},
   "outputs": [
    {
     "name": "stdout",
     "output_type": "stream",
     "text": [
      "After: 47\n",
      "['29', '53', '47', '61', '13']\n",
      "After: 61\n",
      "['29', '53', '47', '61', '13']\n",
      "After: 53\n",
      "['29', '53', '47', '61', '13']\n",
      "After: 29\n",
      "['29', '53', '47', '61', '13']\n",
      "After: 61\n",
      "['29', '53', '47', '61', '13']\n",
      "After: 53\n",
      "['29', '53', '47', '61', '13']\n",
      "After: 29\n",
      "['29', '53', '47', '61', '13']\n",
      "After: 53\n",
      "['29', '53', '47', '61', '13']\n",
      "After: 29\n",
      "['29', '53', '47', '61', '13']\n",
      "After: 29\n",
      "['29', '53', '47', '61', '13']\n",
      "After: 53\n",
      "['13', '53', '29']\n",
      "After: 29\n",
      "['13', '53', '29']\n",
      "After: 13\n",
      "['13', '53', '29']\n",
      "After: 29\n",
      "['13', '53', '29']\n",
      "After: 13\n",
      "['13', '53', '29']\n",
      "After: 13\n",
      "['13', '53', '29']\n",
      "After: 53\n",
      "['13', '53', '29']\n"
     ]
    },
    {
     "ename": "IndexError",
     "evalue": "list index out of range",
     "output_type": "error",
     "traceback": [
      "\u001b[1;31m---------------------------------------------------------------------------\u001b[0m",
      "\u001b[1;31mIndexError\u001b[0m                                Traceback (most recent call last)",
      "Cell \u001b[1;32mIn[96], line 7\u001b[0m\n\u001b[0;32m      3\u001b[0m l_flag \u001b[38;5;241m=\u001b[39m \u001b[38;5;28;01mTrue\u001b[39;00m\n\u001b[0;32m      4\u001b[0m \u001b[38;5;28;01mfor\u001b[39;00m i \u001b[38;5;129;01min\u001b[39;00m \u001b[38;5;28mrange\u001b[39m(\u001b[38;5;241m0\u001b[39m, \u001b[38;5;28mlen\u001b[39m(line)):\n\u001b[0;32m      5\u001b[0m     \u001b[38;5;66;03m# print(f'starting at {data[3][i]}')\u001b[39;00m\n\u001b[0;32m      6\u001b[0m     \u001b[38;5;66;03m# print(f'row:{data[3]}')\u001b[39;00m\n\u001b[1;32m----> 7\u001b[0m     \u001b[38;5;28;01mif\u001b[39;00m \u001b[38;5;129;01mnot\u001b[39;00m \u001b[43mcheck_rules\u001b[49m\u001b[43m(\u001b[49m\u001b[43mdata\u001b[49m\u001b[43m[\u001b[49m\u001b[43mi\u001b[49m\u001b[43m]\u001b[49m\u001b[43m,\u001b[49m\u001b[43mi\u001b[49m\u001b[43m)\u001b[49m:\n\u001b[0;32m      8\u001b[0m         l_flag \u001b[38;5;241m=\u001b[39m \u001b[38;5;28;01mFalse\u001b[39;00m\n\u001b[0;32m      9\u001b[0m         \u001b[38;5;28;01mbreak\u001b[39;00m\n",
      "Cell \u001b[1;32mIn[94], line 6\u001b[0m, in \u001b[0;36mcheck_rules\u001b[1;34m(line, index)\u001b[0m\n\u001b[0;32m      4\u001b[0m b \u001b[38;5;241m=\u001b[39m [] \u001b[38;5;66;03m#before\u001b[39;00m\n\u001b[0;32m      5\u001b[0m \u001b[38;5;28;01mfor\u001b[39;00m rule \u001b[38;5;129;01min\u001b[39;00m rules: \u001b[38;5;66;03m#collect rules\u001b[39;00m\n\u001b[1;32m----> 6\u001b[0m     \u001b[38;5;28;01mif\u001b[39;00m rule[\u001b[38;5;241m0\u001b[39m] \u001b[38;5;241m==\u001b[39m \u001b[43mline\u001b[49m\u001b[43m[\u001b[49m\u001b[43mindex\u001b[49m\u001b[43m]\u001b[49m \u001b[38;5;129;01mand\u001b[39;00m index \u001b[38;5;241m<\u001b[39m \u001b[38;5;28mlen\u001b[39m(line): \u001b[38;5;66;03m#after rules\u001b[39;00m\n\u001b[0;32m      7\u001b[0m         c \u001b[38;5;241m=\u001b[39m rule[\u001b[38;5;241m1\u001b[39m]\n\u001b[0;32m      8\u001b[0m         a\u001b[38;5;241m.\u001b[39mappend(rule)\n",
      "\u001b[1;31mIndexError\u001b[0m: list index out of range"
     ]
    }
   ],
   "source": [
    "rt = []\n",
    "for line in data:\n",
    "    l_flag = True\n",
    "    for i in range(0, len(line)):\n",
    "        # print(f'starting at {data[3][i]}')\n",
    "        # print(f'row:{data[3]}')\n",
    "        if not check_rules(data[i],i):\n",
    "            l_flag = False\n",
    "            break\n",
    "        else:\n",
    "            continue\n",
    "    rt.append(l_flag)\n",
    "rt"
   ]
  },
  {
   "cell_type": "code",
   "execution_count": 97,
   "metadata": {},
   "outputs": [
    {
     "data": {
      "text/plain": [
       "[['47', '53'],\n",
       " ['97', '13'],\n",
       " ['97', '61'],\n",
       " ['97', '47'],\n",
       " ['75', '29'],\n",
       " ['61', '13'],\n",
       " ['75', '53'],\n",
       " ['29', '13'],\n",
       " ['97', '29'],\n",
       " ['53', '29'],\n",
       " ['61', '53'],\n",
       " ['97', '53'],\n",
       " ['61', '29'],\n",
       " ['47', '13'],\n",
       " ['75', '47'],\n",
       " ['97', '75'],\n",
       " ['47', '61'],\n",
       " ['75', '61'],\n",
       " ['47', '29'],\n",
       " ['75', '13'],\n",
       " ['53', '13']]"
      ]
     },
     "execution_count": 97,
     "metadata": {},
     "output_type": "execute_result"
    }
   ],
   "source": [
    "rules"
   ]
  },
  {
   "cell_type": "code",
   "execution_count": 98,
   "metadata": {},
   "outputs": [
    {
     "data": {
      "text/plain": [
       "[['75', '47', '61', '53', '29'],\n",
       " ['97', '61', '53', '29', '13'],\n",
       " ['75', '29', '13'],\n",
       " ['75', '97', '47', '61', '53'],\n",
       " ['61', '13', '29'],\n",
       " ['97', '13', '75', '29', '47']]"
      ]
     },
     "execution_count": 98,
     "metadata": {},
     "output_type": "execute_result"
    }
   ],
   "source": [
    "data"
   ]
  },
  {
   "cell_type": "code",
   "execution_count": 99,
   "metadata": {},
   "outputs": [
    {
     "name": "stdout",
     "output_type": "stream",
     "text": [
      "['75', '47', '61', '53', '29']\n",
      "['97', '61', '53', '29', '13']\n",
      "['75', '29', '13']\n",
      "['75', '97', '47', '61', '53']\n",
      "['61', '13', '29']\n",
      "['97', '13', '75', '29', '47']\n"
     ]
    }
   ],
   "source": [
    "for update in data:\n",
    "    print(update)"
   ]
  },
  {
   "cell_type": "code",
   "execution_count": 100,
   "metadata": {},
   "outputs": [],
   "source": [
    "from collections import defaultdict"
   ]
  },
  {
   "cell_type": "code",
   "execution_count": 109,
   "metadata": {},
   "outputs": [],
   "source": [
    "before = defaultdict(set)\n",
    "after = defaultdict(set)"
   ]
  },
  {
   "cell_type": "code",
   "execution_count": 110,
   "metadata": {},
   "outputs": [],
   "source": [
    "for rule in rules:\n",
    "    after[int(rule[0])].add(int(rule[1]))\n",
    "    before[int(rule[1])].add(int(rule[0]))"
   ]
  },
  {
   "cell_type": "code",
   "execution_count": 111,
   "metadata": {},
   "outputs": [
    {
     "data": {
      "text/plain": [
       "defaultdict(set,\n",
       "            {47: {13, 29, 53, 61},\n",
       "             97: {13, 29, 47, 53, 61, 75},\n",
       "             75: {13, 29, 47, 53, 61},\n",
       "             61: {13, 29, 53},\n",
       "             29: {13},\n",
       "             53: {13, 29}})"
      ]
     },
     "execution_count": 111,
     "metadata": {},
     "output_type": "execute_result"
    }
   ],
   "source": [
    "after"
   ]
  },
  {
   "cell_type": "code",
   "execution_count": 112,
   "metadata": {},
   "outputs": [
    {
     "data": {
      "text/plain": [
       "defaultdict(set,\n",
       "            {53: {47, 61, 75, 97},\n",
       "             13: {29, 47, 53, 61, 75, 97},\n",
       "             61: {47, 75, 97},\n",
       "             47: {75, 97},\n",
       "             29: {47, 53, 61, 75, 97},\n",
       "             75: {97}})"
      ]
     },
     "execution_count": 112,
     "metadata": {},
     "output_type": "execute_result"
    }
   ],
   "source": [
    "before"
   ]
  },
  {
   "cell_type": "code",
   "execution_count": 126,
   "metadata": {},
   "outputs": [
    {
     "data": {
      "text/plain": [
       "[[75, 47, 61, 53, 29],\n",
       " [97, 61, 53, 29, 13],\n",
       " [75, 29, 13],\n",
       " [75, 97, 47, 61, 53],\n",
       " [61, 13, 29],\n",
       " [97, 13, 75, 29, 47]]"
      ]
     },
     "execution_count": 126,
     "metadata": {},
     "output_type": "execute_result"
    }
   ],
   "source": [
    "#convert data to ints\n",
    "data = [[int(i) for i in line]  for line in data]\n",
    "data"
   ]
  },
  {
   "cell_type": "code",
   "execution_count": 128,
   "metadata": {},
   "outputs": [
    {
     "name": "stdout",
     "output_type": "stream",
     "text": [
      "[75, 47, 61, 53, 29]\n",
      "[97, 61, 53, 29, 13]\n",
      "[75, 29, 13]\n",
      "[75, 97, 47, 61, 53]\n",
      "[61, 13, 29]\n",
      "[97, 13, 75, 29, 47]\n"
     ]
    }
   ],
   "source": [
    "for line in data:\n",
    "    print(line)"
   ]
  },
  {
   "cell_type": "code",
   "execution_count": 129,
   "metadata": {},
   "outputs": [
    {
     "data": {
      "text/plain": [
       "{13, 29, 53, 61}"
      ]
     },
     "execution_count": 129,
     "metadata": {},
     "output_type": "execute_result"
    }
   ],
   "source": [
    "after[47]"
   ]
  },
  {
   "cell_type": "code",
   "execution_count": 131,
   "metadata": {},
   "outputs": [],
   "source": [
    "if 21 in after[47]:\n",
    "    print('f')"
   ]
  },
  {
   "cell_type": "code",
   "execution_count": 168,
   "metadata": {},
   "outputs": [
    {
     "data": {
      "text/plain": [
       "[75, 97, 47, 61, 53]"
      ]
     },
     "execution_count": 168,
     "metadata": {},
     "output_type": "execute_result"
    }
   ],
   "source": [
    "d = data[3]\n",
    "d"
   ]
  },
  {
   "cell_type": "code",
   "execution_count": 169,
   "metadata": {},
   "outputs": [
    {
     "data": {
      "text/plain": [
       "defaultdict(set,\n",
       "            {47: {13, 29, 53, 61},\n",
       "             97: {13, 29, 47, 53, 61, 75},\n",
       "             75: {13, 29, 47, 53, 61},\n",
       "             61: {13, 29, 53},\n",
       "             29: {13},\n",
       "             53: {13, 29}})"
      ]
     },
     "execution_count": 169,
     "metadata": {},
     "output_type": "execute_result"
    }
   ],
   "source": [
    "after"
   ]
  },
  {
   "cell_type": "code",
   "execution_count": 170,
   "metadata": {},
   "outputs": [],
   "source": [
    "#for each value\n",
    "#check if remaining values are in after\n",
    "\n",
    "#75\n",
    "#check if [47, 61, 53, 29] all in after[75]"
   ]
  },
  {
   "cell_type": "code",
   "execution_count": 176,
   "metadata": {},
   "outputs": [
    {
     "name": "stdout",
     "output_type": "stream",
     "text": [
      "[75, 47, 61, 53, 29]\n",
      "[97, 61, 53, 29, 13]\n",
      "[75, 29, 13]\n",
      "[75, 97, 47, 61, 53]\n",
      "False\n",
      "[61, 13, 29]\n",
      "False\n",
      "[97, 13, 75, 29, 47]\n",
      "False\n"
     ]
    }
   ],
   "source": [
    "for d in data:\n",
    "    print(d)\n",
    "    for i, v in enumerate(d):\n",
    "        # print(i, v)\n",
    "        \n",
    "        if all(i in after[v] for i in d[i+1:]): \n",
    "            if i == 0:\n",
    "                # print(True)\n",
    "                continue\n",
    "            else:\n",
    "                if all(i in before[v] for i in d[:i-1]):\n",
    "                    # print(True)\n",
    "                    continue\n",
    "        else:\n",
    "            print(False)\n",
    "            break"
   ]
  },
  {
   "cell_type": "code",
   "execution_count": 152,
   "metadata": {},
   "outputs": [
    {
     "data": {
      "text/plain": [
       "[]"
      ]
     },
     "execution_count": 152,
     "metadata": {},
     "output_type": "execute_result"
    }
   ],
   "source": [
    "d[:0]"
   ]
  },
  {
   "cell_type": "code",
   "execution_count": 141,
   "metadata": {},
   "outputs": [
    {
     "data": {
      "text/plain": [
       "[61, 53, 29]"
      ]
     },
     "execution_count": 141,
     "metadata": {},
     "output_type": "execute_result"
    }
   ],
   "source": [
    "f = d[2:]\n",
    "f"
   ]
  },
  {
   "cell_type": "code",
   "execution_count": 144,
   "metadata": {},
   "outputs": [
    {
     "data": {
      "text/plain": [
       "False"
      ]
     },
     "execution_count": 144,
     "metadata": {},
     "output_type": "execute_result"
    }
   ],
   "source": [
    "all(item in after[75] for item in f)"
   ]
  },
  {
   "cell_type": "code",
   "execution_count": null,
   "metadata": {},
   "outputs": [],
   "source": []
  }
 ],
 "metadata": {
  "kernelspec": {
   "display_name": "venv",
   "language": "python",
   "name": "python3"
  },
  "language_info": {
   "codemirror_mode": {
    "name": "ipython",
    "version": 3
   },
   "file_extension": ".py",
   "mimetype": "text/x-python",
   "name": "python",
   "nbconvert_exporter": "python",
   "pygments_lexer": "ipython3",
   "version": "3.12.5"
  }
 },
 "nbformat": 4,
 "nbformat_minor": 2
}
