{
 "cells": [
  {
   "cell_type": "code",
   "execution_count": 9,
   "metadata": {},
   "outputs": [],
   "source": [
    "import csv\n",
    "import pandas as pd"
   ]
  },
  {
   "cell_type": "code",
   "execution_count": 10,
   "metadata": {},
   "outputs": [],
   "source": [
    "df = pd.read_csv('data.csv',header=None)"
   ]
  },
  {
   "cell_type": "code",
   "execution_count": 11,
   "metadata": {},
   "outputs": [],
   "source": [
    "from itertools import pairwise\n",
    "\n",
    "\n",
    "def is_safe(row):\n",
    "    # print(row)\n",
    "    items = row[0].split(' ')\n",
    "    row_list = list(map(int, items))\n",
    "    l = len(items)\n",
    "    safe = False\n",
    "    count = 0\n",
    "    #condition 1\n",
    "    if all(a < b for a, b in pairwise(row_list)) or all(a > b for a, b in pairwise(row_list)):\n",
    "        safe= True\n",
    "    else:\n",
    "        safe= False\n",
    "    if safe == False:\n",
    "        return 0\n",
    "    #condition 2\n",
    "\n",
    "    # if all(abs(a-b) >= 1 and abs(a-b) <= 3 for a,b in pairwise(row_list)):\n",
    "    #     safe=True\n",
    "    # else:\n",
    "    #     safe=False\n",
    "    \n",
    "    if safe == True:\n",
    "        return 1\n",
    "    else:\n",
    "        return 0\n"
   ]
  },
  {
   "cell_type": "code",
   "execution_count": 12,
   "metadata": {},
   "outputs": [],
   "source": [
    "safe = 0"
   ]
  },
  {
   "cell_type": "code",
   "execution_count": 13,
   "metadata": {},
   "outputs": [],
   "source": [
    "for index, row in df.iterrows():\n",
    "    safe += is_safe(row)\n"
   ]
  },
  {
   "cell_type": "markdown",
   "metadata": {},
   "source": [
    "The levels are either all increasing or all decreasing.\n",
    "\n",
    "\n",
    "\n",
    "Any two adjacent levels differ by at least one and at most three."
   ]
  },
  {
   "cell_type": "code",
   "execution_count": 14,
   "metadata": {},
   "outputs": [
    {
     "data": {
      "text/plain": [
       "614"
      ]
     },
     "execution_count": 14,
     "metadata": {},
     "output_type": "execute_result"
    }
   ],
   "source": [
    "safe"
   ]
  },
  {
   "cell_type": "code",
   "execution_count": 30,
   "metadata": {},
   "outputs": [],
   "source": [
    "def is_safe_list(row_list):\n",
    "    increasing = all(a < b for a, b in pairwise(row_list))\n",
    "    decreasing = all(a > b for a, b in pairwise(row_list))\n",
    "    if not (increasing or decreasing):\n",
    "        return False\n",
    "    # Condition 2: differences between consecutive elements are between 1 and 3 inclusive\n",
    "    if all(1 <= abs(a - b) <= 3 for a, b in pairwise(row_list)):\n",
    "        return True\n",
    "    else:\n",
    "        return False"
   ]
  },
  {
   "cell_type": "code",
   "execution_count": 41,
   "metadata": {},
   "outputs": [],
   "source": [
    "def is_safe_row(row):\n",
    "    \n",
    "    items = row[0].split(' ')\n",
    "    row_list = list(map(int, items))\n",
    "    if is_safe_list(row_list):\n",
    "        return 1\n",
    "    \n",
    "    # print(row_list)\n",
    "    for i in range(len(row_list)):\n",
    "        new_list = row_list[:i] + row_list[i+1:]\n",
    "        if is_safe_list(new_list):\n",
    "            return 1\n",
    "        # print(new_list)\n",
    "\n",
    "    return 0"
   ]
  },
  {
   "cell_type": "code",
   "execution_count": 44,
   "metadata": {},
   "outputs": [],
   "source": [
    "safe = 0\n",
    "for index, row in df.iterrows():\n",
    "    safe += is_safe_row(row)"
   ]
  },
  {
   "cell_type": "code",
   "execution_count": 45,
   "metadata": {},
   "outputs": [
    {
     "data": {
      "text/plain": [
       "553"
      ]
     },
     "execution_count": 45,
     "metadata": {},
     "output_type": "execute_result"
    }
   ],
   "source": [
    "safe"
   ]
  },
  {
   "cell_type": "code",
   "execution_count": null,
   "metadata": {},
   "outputs": [],
   "source": []
  }
 ],
 "metadata": {
  "kernelspec": {
   "display_name": "venv",
   "language": "python",
   "name": "python3"
  },
  "language_info": {
   "codemirror_mode": {
    "name": "ipython",
    "version": 3
   },
   "file_extension": ".py",
   "mimetype": "text/x-python",
   "name": "python",
   "nbconvert_exporter": "python",
   "pygments_lexer": "ipython3",
   "version": "3.12.5"
  }
 },
 "nbformat": 4,
 "nbformat_minor": 2
}
